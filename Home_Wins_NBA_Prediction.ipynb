{
  "nbformat": 4,
  "nbformat_minor": 0,
  "metadata": {
    "colab": {
      "provenance": [],
      "gpuType": "T4"
    },
    "kernelspec": {
      "name": "python3",
      "display_name": "Python 3"
    },
    "language_info": {
      "name": "python"
    },
    "accelerator": "GPU"
  },
  "cells": [
    {
      "cell_type": "markdown",
      "source": [
        "# NBA Sports Prediction\n",
        "\n",
        "![image](https://logos-world.net/wp-content/uploads/2020/11/NBA-Logo.png)\n",
        "\n",
        "\n",
        "\n"
      ],
      "metadata": {
        "id": "jcvJG5dt2qA0"
      }
    },
    {
      "cell_type": "markdown",
      "source": [
        "## Load Data"
      ],
      "metadata": {
        "id": "1Cv404ql26A9"
      }
    },
    {
      "cell_type": "code",
      "execution_count": null,
      "metadata": {
        "id": "QRX9oqQg2LNh"
      },
      "outputs": [],
      "source": [
        "\n",
        "import matplotlib.pyplot as plt\n",
        "import pandas as pd\n",
        "import numpy as np\n",
        "import glob\n"
      ]
    },
    {
      "cell_type": "markdown",
      "source": [
        "Download the .pkl file onto your computer in a location you will remember.\n",
        "\n",
        "Then navigate to the \"Files\" folder on the left panel in Colab and upload the .pkl file into the sample_data folder. You will need to repeat this upload process each time you restart your colab notebook.\n",
        "\n",
        "Once the file is uploaded into sample_data, click the three dots next to the datasets name and select \"Copy path\". Paste the path in the code below to load your data."
      ],
      "metadata": {
        "id": "yh8QqwNnKe_t"
      }
    },
    {
      "cell_type": "code",
      "source": [
        "df = pd.DataFrame()\n",
        "for file in glob.glob('/content/sample_data/nba_data_total.pkl'):\n",
        "  df = pd.concat([df, pd.read_pickle(file)])"
      ],
      "metadata": {
        "id": "K8fyWd9f2UkE"
      },
      "execution_count": null,
      "outputs": []
    },
    {
      "cell_type": "code",
      "source": [
        "columns_drop = ['player']\n",
        "df_clean = df.drop(columns=columns_drop)"
      ],
      "metadata": {
        "id": "mPEriBY5FmUZ"
      },
      "execution_count": null,
      "outputs": []
    },
    {
      "cell_type": "code",
      "source": [
        "df_clean[\"player.height_feet\"].hist()\n",
        "df_clean[\"player.height_inches\"].hist()\n",
        "df_clean[\"player.height_feet\"] = df_clean[\"player.height_feet\"].fillna(df_clean[\"player.height_feet\"].mean())\n",
        "df_clean[\"player.height_inches\"] = df_clean[\"player.height_inches\"].fillna(df_clean[\"player.height_inches\"].mean())\n",
        "df_clean[\"player.weight_pounds\"] = df_clean[\"player.weight_pounds\"].fillna(df_clean[\"player.weight_pounds\"].mean())"
      ],
      "metadata": {
        "colab": {
          "base_uri": "https://localhost:8080/",
          "height": 430
        },
        "id": "kQlVjAJDYskV",
        "outputId": "084037bd-781a-4cbd-9960-d5e948082bbd"
      },
      "execution_count": null,
      "outputs": [
        {
          "output_type": "display_data",
          "data": {
            "text/plain": [
              "<Figure size 640x480 with 1 Axes>"
            ],
            "image/png": "[encoded data removed]"
          },
          "metadata": {}
        }
      ]
    },
    {
      "cell_type": "code",
      "source": [
        "df_clean = df_clean.dropna(axis=0)"
      ],
      "metadata": {
        "id": "9CZxFfXJZIzd"
      },
      "execution_count": null,
      "outputs": []
    },
    {
      "cell_type": "code",
      "source": [
        "df_clean[\"player.height\"] = df_clean[\"player.height_feet\"] + df_clean[\"player.height_inches\"] / 12.0\n",
        "df_clean = df_clean.drop([\"player.height_feet\", \"player.height_inches\"], axis=1)\n",
        "df_clean.shape"
      ],
      "metadata": {
        "id": "VT3K2dJ7ZJs4",
        "colab": {
          "base_uri": "https://localhost:8080/"
        },
        "outputId": "1c454698-e62b-4df2-a903-0dc382b4e7f6"
      },
      "execution_count": null,
      "outputs": [
        {
          "output_type": "execute_result",
          "data": {
            "text/plain": [
              "(59992, 46)"
            ]
          },
          "metadata": {},
          "execution_count": 7
        }
      ]
    },
    {
      "cell_type": "code",
      "source": [
        "df_clean[\"player.team_id\"] = df_clean[\"player.team_id\"].astype(int)\n",
        "df_clean[\"playing_at_home\"] = (df_clean[\"game.home_team_id\"] == df_clean[\"player.team_id\"]).astype(int)\n",
        "df_clean[\"playing_at_home\"]"
      ],
      "metadata": {
        "colab": {
          "base_uri": "https://localhost:8080/"
        },
        "id": "R9IYzsaEaZbF",
        "outputId": "6f4dcde8-ffbe-4bfa-b08e-a0ce203b2ee4"
      },
      "execution_count": null,
      "outputs": [
        {
          "output_type": "execute_result",
          "data": {
            "text/plain": [
              "0       1\n",
              "1       0\n",
              "2       0\n",
              "3       0\n",
              "4       1\n",
              "       ..\n",
              "9995    1\n",
              "9996    1\n",
              "9997    1\n",
              "9998    1\n",
              "9999    0\n",
              "Name: playing_at_home, Length: 59992, dtype: int64"
            ]
          },
          "metadata": {},
          "execution_count": 8
        }
      ]
    },
    {
      "cell_type": "code",
      "source": [
        "df_clean[\"win\"] = (df_clean[\"playing_at_home\"] == df_clean[\"home_wins\"]).astype(int)"
      ],
      "metadata": {
        "id": "ByI5RGSmaglC"
      },
      "execution_count": null,
      "outputs": []
    },
    {
      "cell_type": "code",
      "source": [
        "df_clean.describe()"
      ],
      "metadata": {
        "colab": {
          "base_uri": "https://localhost:8080/",
          "height": 349
        },
        "id": "KDrey_S8ar0C",
        "outputId": "542a6c50-7d39-4f4a-b381-c61f04bc4d5b"
      },
      "execution_count": null,
      "outputs": [
        {
          "output_type": "execute_result",
          "data": {
            "text/plain": [
              "                 id           ast           blk          dreb       fg3_pct  \\\n",
              "count  5.999200e+04  59992.000000  59992.000000  59992.000000  59992.000000   \n",
              "mean   6.705100e+06      1.825177      0.364349      2.572576     20.459700   \n",
              "std    2.391579e+06      2.469208      0.748099      2.772385     27.959249   \n",
              "min    2.848755e+06      0.000000      0.000000      0.000000      0.000000   \n",
              "25%    4.552205e+06      0.000000      0.000000      0.000000      0.000000   \n",
              "50%    6.724432e+06      1.000000      0.000000      2.000000      0.000000   \n",
              "75%    8.807338e+06      3.000000      1.000000      4.000000     40.000000   \n",
              "max    1.085254e+07     24.000000     10.000000     21.000000    100.000000   \n",
              "\n",
              "               fg3a          fg3m        fg_pct           fga           fgm  \\\n",
              "count  59992.000000  59992.000000  59992.000000  59992.000000  59992.000000   \n",
              "mean       2.609865      0.931608     34.176494      6.604614      3.042939   \n",
              "std        3.009799      1.403722     28.316218      6.246747      3.225485   \n",
              "min        0.000000      0.000000      0.000000      0.000000      0.000000   \n",
              "25%        0.000000      0.000000      0.000000      1.000000      0.000000   \n",
              "50%        2.000000      0.000000     37.500000      5.000000      2.000000   \n",
              "75%        4.000000      1.000000     52.900000     10.000000      5.000000   \n",
              "max       22.000000     12.000000    100.000000     37.000000     22.000000   \n",
              "\n",
              "       ...  game.visitor_team_id  game.visitor_team_score     player.id  \\\n",
              "count  ...          59992.000000             59992.000000  5.999200e+04   \n",
              "mean   ...             15.404787               109.141286  2.165191e+06   \n",
              "std    ...              8.658486                13.458549  5.020408e+06   \n",
              "min    ...              1.000000                57.000000  2.000000e+00   \n",
              "25%    ...              8.000000               100.000000  2.040000e+02   \n",
              "50%    ...             15.000000               109.000000  4.030000e+02   \n",
              "75%    ...             23.000000               118.000000  6.669230e+05   \n",
              "max    ...             30.000000               158.000000  2.792455e+07   \n",
              "\n",
              "       player.team_id  player.weight_pounds       team.id     home_wins  \\\n",
              "count    59992.000000          59992.000000  59992.000000  59992.000000   \n",
              "mean        15.753851            217.823374     15.521253      0.547340   \n",
              "std          8.590928             18.855414      8.665603      0.497758   \n",
              "min          1.000000            170.000000      1.000000      0.000000   \n",
              "25%          8.000000            210.000000      8.000000      0.000000   \n",
              "50%         16.000000            217.823374     16.000000      1.000000   \n",
              "75%         23.000000            220.000000     23.000000      1.000000   \n",
              "max         30.000000            290.000000     30.000000      1.000000   \n",
              "\n",
              "       player.height  playing_at_home           win  \n",
              "count   59992.000000     59992.000000  59992.000000  \n",
              "mean        6.594580         0.354031      0.491015  \n",
              "std         0.214019         0.478222      0.499923  \n",
              "min         5.750000         0.000000      0.000000  \n",
              "25%         6.583333         0.000000      0.000000  \n",
              "50%         6.594580         0.000000      0.000000  \n",
              "75%         6.666667         1.000000      1.000000  \n",
              "max         7.250000         1.000000      1.000000  \n",
              "\n",
              "[8 rows x 34 columns]"
            ],
            "text/html": [
              "\n",
              "  <div id=\"df-a18a3c95-94bd-4e9d-834d-c37f6a209ec0\" class=\"colab-df-container\">\n",
              "    <div>\n",
              "<style scoped>\n",
              "    .dataframe tbody tr th:only-of-type {\n",
              "        vertical-align: middle;\n",
              "    }\n",
              "\n",
              "    .dataframe tbody tr th {\n",
              "        vertical-align: top;\n",
              "    }\n",
              "\n",
              "    .dataframe thead th {\n",
              "        text-align: right;\n",
              "    }\n",
              "</style>\n",
              "<table border=\"1\" class=\"dataframe\">\n",
              "  <thead>\n",
              "    <tr style=\"text-align: right;\">\n",
              "      <th></th>\n",
              "      <th>id</th>\n",
              "      <th>ast</th>\n",
              "      <th>blk</th>\n",
              "      <th>dreb</th>\n",
              "      <th>fg3_pct</th>\n",
              "      <th>fg3a</th>\n",
              "      <th>fg3m</th>\n",
              "      <th>fg_pct</th>\n",
              "      <th>fga</th>\n",
              "      <th>fgm</th>\n",
              "      <th>...</th>\n",
              "      <th>game.visitor_team_id</th>\n",
              "      <th>game.visitor_team_score</th>\n",
              "      <th>player.id</th>\n",
              "      <th>player.team_id</th>\n",
              "      <th>player.weight_pounds</th>\n",
              "      <th>team.id</th>\n",
              "      <th>home_wins</th>\n",
              "      <th>player.height</th>\n",
              "      <th>playing_at_home</th>\n",
              "      <th>win</th>\n",
              "    </tr>\n",
              "  </thead>\n",
              "  <tbody>\n",
              "    <tr>\n",
              "      <th>count</th>\n",
              "      <td>5.999200e+04</td>\n",
              "      <td>59992.000000</td>\n",
              "      <td>59992.000000</td>\n",
              "      <td>59992.000000</td>\n",
              "      <td>59992.000000</td>\n",
              "      <td>59992.000000</td>\n",
              "      <td>59992.000000</td>\n",
              "      <td>59992.000000</td>\n",
              "      <td>59992.000000</td>\n",
              "      <td>59992.000000</td>\n",
              "      <td>...</td>\n",
              "      <td>59992.000000</td>\n",
              "      <td>59992.000000</td>\n",
              "      <td>5.999200e+04</td>\n",
              "      <td>59992.000000</td>\n",
              "      <td>59992.000000</td>\n",
              "      <td>59992.000000</td>\n",
              "      <td>59992.000000</td>\n",
              "      <td>59992.000000</td>\n",
              "      <td>59992.000000</td>\n",
              "      <td>59992.000000</td>\n",
              "    </tr>\n",
              "    <tr>\n",
              "      <th>mean</th>\n",
              "      <td>6.705100e+06</td>\n",
              "      <td>1.825177</td>\n",
              "      <td>0.364349</td>\n",
              "      <td>2.572576</td>\n",
              "      <td>20.459700</td>\n",
              "      <td>2.609865</td>\n",
              "      <td>0.931608</td>\n",
              "      <td>34.176494</td>\n",
              "      <td>6.604614</td>\n",
              "      <td>3.042939</td>\n",
              "      <td>...</td>\n",
              "      <td>15.404787</td>\n",
              "      <td>109.141286</td>\n",
              "      <td>2.165191e+06</td>\n",
              "      <td>15.753851</td>\n",
              "      <td>217.823374</td>\n",
              "      <td>15.521253</td>\n",
              "      <td>0.547340</td>\n",
              "      <td>6.594580</td>\n",
              "      <td>0.354031</td>\n",
              "      <td>0.491015</td>\n",
              "    </tr>\n",
              "    <tr>\n",
              "      <th>std</th>\n",
              "      <td>2.391579e+06</td>\n",
              "      <td>2.469208</td>\n",
              "      <td>0.748099</td>\n",
              "      <td>2.772385</td>\n",
              "      <td>27.959249</td>\n",
              "      <td>3.009799</td>\n",
              "      <td>1.403722</td>\n",
              "      <td>28.316218</td>\n",
              "      <td>6.246747</td>\n",
              "      <td>3.225485</td>\n",
              "      <td>...</td>\n",
              "      <td>8.658486</td>\n",
              "      <td>13.458549</td>\n",
              "      <td>5.020408e+06</td>\n",
              "      <td>8.590928</td>\n",
              "      <td>18.855414</td>\n",
              "      <td>8.665603</td>\n",
              "      <td>0.497758</td>\n",
              "      <td>0.214019</td>\n",
              "      <td>0.478222</td>\n",
              "      <td>0.499923</td>\n",
              "    </tr>\n",
              "    <tr>\n",
              "      <th>min</th>\n",
              "      <td>2.848755e+06</td>\n",
              "      <td>0.000000</td>\n",
              "      <td>0.000000</td>\n",
              "      <td>0.000000</td>\n",
              "      <td>0.000000</td>\n",
              "      <td>0.000000</td>\n",
              "      <td>0.000000</td>\n",
              "      <td>0.000000</td>\n",
              "      <td>0.000000</td>\n",
              "      <td>0.000000</td>\n",
              "      <td>...</td>\n",
              "      <td>1.000000</td>\n",
              "      <td>57.000000</td>\n",
              "      <td>2.000000e+00</td>\n",
              "      <td>1.000000</td>\n",
              "      <td>170.000000</td>\n",
              "      <td>1.000000</td>\n",
              "      <td>0.000000</td>\n",
              "      <td>5.750000</td>\n",
              "      <td>0.000000</td>\n",
              "      <td>0.000000</td>\n",
              "    </tr>\n",
              "    <tr>\n",
              "      <th>25%</th>\n",
              "      <td>4.552205e+06</td>\n",
              "      <td>0.000000</td>\n",
              "      <td>0.000000</td>\n",
              "      <td>0.000000</td>\n",
              "      <td>0.000000</td>\n",
              "      <td>0.000000</td>\n",
              "      <td>0.000000</td>\n",
              "      <td>0.000000</td>\n",
              "      <td>1.000000</td>\n",
              "      <td>0.000000</td>\n",
              "      <td>...</td>\n",
              "      <td>8.000000</td>\n",
              "      <td>100.000000</td>\n",
              "      <td>2.040000e+02</td>\n",
              "      <td>8.000000</td>\n",
              "      <td>210.000000</td>\n",
              "      <td>8.000000</td>\n",
              "      <td>0.000000</td>\n",
              "      <td>6.583333</td>\n",
              "      <td>0.000000</td>\n",
              "      <td>0.000000</td>\n",
              "    </tr>\n",
              "    <tr>\n",
              "      <th>50%</th>\n",
              "      <td>6.724432e+06</td>\n",
              "      <td>1.000000</td>\n",
              "      <td>0.000000</td>\n",
              "      <td>2.000000</td>\n",
              "      <td>0.000000</td>\n",
              "      <td>2.000000</td>\n",
              "      <td>0.000000</td>\n",
              "      <td>37.500000</td>\n",
              "      <td>5.000000</td>\n",
              "      <td>2.000000</td>\n",
              "      <td>...</td>\n",
              "      <td>15.000000</td>\n",
              "      <td>109.000000</td>\n",
              "      <td>4.030000e+02</td>\n",
              "      <td>16.000000</td>\n",
              "      <td>217.823374</td>\n",
              "      <td>16.000000</td>\n",
              "      <td>1.000000</td>\n",
              "      <td>6.594580</td>\n",
              "      <td>0.000000</td>\n",
              "      <td>0.000000</td>\n",
              "    </tr>\n",
              "    <tr>\n",
              "      <th>75%</th>\n",
              "      <td>8.807338e+06</td>\n",
              "      <td>3.000000</td>\n",
              "      <td>1.000000</td>\n",
              "      <td>4.000000</td>\n",
              "      <td>40.000000</td>\n",
              "      <td>4.000000</td>\n",
              "      <td>1.000000</td>\n",
              "      <td>52.900000</td>\n",
              "      <td>10.000000</td>\n",
              "      <td>5.000000</td>\n",
              "      <td>...</td>\n",
              "      <td>23.000000</td>\n",
              "      <td>118.000000</td>\n",
              "      <td>6.669230e+05</td>\n",
              "      <td>23.000000</td>\n",
              "      <td>220.000000</td>\n",
              "      <td>23.000000</td>\n",
              "      <td>1.000000</td>\n",
              "      <td>6.666667</td>\n",
              "      <td>1.000000</td>\n",
              "      <td>1.000000</td>\n",
              "    </tr>\n",
              "    <tr>\n",
              "      <th>max</th>\n",
              "      <td>1.085254e+07</td>\n",
              "      <td>24.000000</td>\n",
              "      <td>10.000000</td>\n",
              "      <td>21.000000</td>\n",
              "      <td>100.000000</td>\n",
              "      <td>22.000000</td>\n",
              "      <td>12.000000</td>\n",
              "      <td>100.000000</td>\n",
              "      <td>37.000000</td>\n",
              "      <td>22.000000</td>\n",
              "      <td>...</td>\n",
              "      <td>30.000000</td>\n",
              "      <td>158.000000</td>\n",
              "      <td>2.792455e+07</td>\n",
              "      <td>30.000000</td>\n",
              "      <td>290.000000</td>\n",
              "      <td>30.000000</td>\n",
              "      <td>1.000000</td>\n",
              "      <td>7.250000</td>\n",
              "      <td>1.000000</td>\n",
              "      <td>1.000000</td>\n",
              "    </tr>\n",
              "  </tbody>\n",
              "</table>\n",
              "<p>8 rows × 34 columns</p>\n",
              "</div>\n",
              "    <div class=\"colab-df-buttons\">\n",
              "\n",
              "  <div class=\"colab-df-container\">\n",
              "    <button class=\"colab-df-convert\" onclick=\"convertToInteractive('df-a18a3c95-94bd-4e9d-834d-c37f6a209ec0')\"\n",
              "            title=\"Convert this dataframe to an interactive table.\"\n",
              "            style=\"display:none;\">\n",
              "\n",
              "  <svg xmlns=\"http://www.w3.org/2000/svg\" height=\"24px\" viewBox=\"0 -960 960 960\">\n",
              "    <path d=\"M120-120v-720h720v720H120Zm60-500h600v-160H180v160Zm220 220h160v-160H400v160Zm0 220h160v-160H400v160ZM180-400h160v-160H180v160Zm440 0h160v-160H620v160ZM180-180h160v-160H180v160Zm440 0h160v-160H620v160Z\"/>\n",
              "  </svg>\n",
              "    </button>\n",
              "\n",
              "  <style>\n",
              "    .colab-df-container {\n",
              "      display:flex;\n",
              "      gap: 12px;\n",
              "    }\n",
              "\n",
              "    .colab-df-convert {\n",
              "      background-color: #E8F0FE;\n",
              "      border: none;\n",
              "      border-radius: 50%;\n",
              "      cursor: pointer;\n",
              "      display: none;\n",
              "      fill: #1967D2;\n",
              "      height: 32px;\n",
              "      padding: 0 0 0 0;\n",
              "      width: 32px;\n",
              "    }\n",
              "\n",
              "    .colab-df-convert:hover {\n",
              "      background-color: #E2EBFA;\n",
              "      box-shadow: 0px 1px 2px rgba(60, 64, 67, 0.3), 0px 1px 3px 1px rgba(60, 64, 67, 0.15);\n",
              "      fill: #174EA6;\n",
              "    }\n",
              "\n",
              "    .colab-df-buttons div {\n",
              "      margin-bottom: 4px;\n",
              "    }\n",
              "\n",
              "    [theme=dark] .colab-df-convert {\n",
              "      background-color: #3B4455;\n",
              "      fill: #D2E3FC;\n",
              "    }\n",
              "\n",
              "    [theme=dark] .colab-df-convert:hover {\n",
              "      background-color: #434B5C;\n",
              "      box-shadow: 0px 1px 3px 1px rgba(0, 0, 0, 0.15);\n",
              "      filter: drop-shadow(0px 1px 2px rgba(0, 0, 0, 0.3));\n",
              "      fill: #FFFFFF;\n",
              "    }\n",
              "  </style>\n",
              "\n",
              "    <script>\n",
              "      const buttonEl =\n",
              "        document.querySelector('#df-a18a3c95-94bd-4e9d-834d-c37f6a209ec0 button.colab-df-convert');\n",
              "      buttonEl.style.display =\n",
              "        google.colab.kernel.accessAllowed ? 'block' : 'none';\n",
              "\n",
              "      async function convertToInteractive(key) {\n",
              "        const element = document.querySelector('#df-a18a3c95-94bd-4e9d-834d-c37f6a209ec0');\n",
              "        const dataTable =\n",
              "          await google.colab.kernel.invokeFunction('convertToInteractive',\n",
              "                                                    [key], {});\n",
              "        if (!dataTable) return;\n",
              "\n",
              "        const docLinkHtml = 'Like what you see? Visit the ' +\n",
              "          '<a target=\"_blank\" href=https://colab.research.google.com/notebooks/data_table.ipynb>data table notebook</a>'\n",
              "          + ' to learn more about interactive tables.';\n",
              "        element.innerHTML = '';\n",
              "        dataTable['output_type'] = 'display_data';\n",
              "        await google.colab.output.renderOutput(dataTable, element);\n",
              "        const docLink = document.createElement('div');\n",
              "        docLink.innerHTML = docLinkHtml;\n",
              "        element.appendChild(docLink);\n",
              "      }\n",
              "    </script>\n",
              "  </div>\n",
              "\n",
              "\n",
              "<div id=\"df-dbcc138d-f386-411c-8031-2486e9ff3df4\">\n",
              "  <button class=\"colab-df-quickchart\" onclick=\"quickchart('df-dbcc138d-f386-411c-8031-2486e9ff3df4')\"\n",
              "            title=\"Suggest charts.\"\n",
              "            style=\"display:none;\">\n",
              "\n",
              "<svg xmlns=\"http://www.w3.org/2000/svg\" height=\"24px\"viewBox=\"0 0 24 24\"\n",
              "     width=\"24px\">\n",
              "    <g>\n",
              "        <path d=\"M19 3H5c-1.1 0-2 .9-2 2v14c0 1.1.9 2 2 2h14c1.1 0 2-.9 2-2V5c0-1.1-.9-2-2-2zM9 17H7v-7h2v7zm4 0h-2V7h2v10zm4 0h-2v-4h2v4z\"/>\n",
              "    </g>\n",
              "</svg>\n",
              "  </button>\n",
              "\n",
              "<style>\n",
              "  .colab-df-quickchart {\n",
              "    background-color: #E8F0FE;\n",
              "    border: none;\n",
              "    border-radius: 50%;\n",
              "    cursor: pointer;\n",
              "    display: none;\n",
              "    fill: #1967D2;\n",
              "    height: 32px;\n",
              "    padding: 0 0 0 0;\n",
              "    width: 32px;\n",
              "  }\n",
              "\n",
              "  .colab-df-quickchart:hover {\n",
              "    background-color: #E2EBFA;\n",
              "    box-shadow: 0px 1px 2px rgba(60, 64, 67, 0.3), 0px 1px 3px 1px rgba(60, 64, 67, 0.15);\n",
              "    fill: #174EA6;\n",
              "  }\n",
              "\n",
              "  [theme=dark] .colab-df-quickchart {\n",
              "    background-color: #3B4455;\n",
              "    fill: #D2E3FC;\n",
              "  }\n",
              "\n",
              "  [theme=dark] .colab-df-quickchart:hover {\n",
              "    background-color: #434B5C;\n",
              "    box-shadow: 0px 1px 3px 1px rgba(0, 0, 0, 0.15);\n",
              "    filter: drop-shadow(0px 1px 2px rgba(0, 0, 0, 0.3));\n",
              "    fill: #FFFFFF;\n",
              "  }\n",
              "</style>\n",
              "\n",
              "  <script>\n",
              "    async function quickchart(key) {\n",
              "      const charts = await google.colab.kernel.invokeFunction(\n",
              "          'suggestCharts', [key], {});\n",
              "    }\n",
              "    (() => {\n",
              "      let quickchartButtonEl =\n",
              "        document.querySelector('#df-dbcc138d-f386-411c-8031-2486e9ff3df4 button');\n",
              "      quickchartButtonEl.style.display =\n",
              "        google.colab.kernel.accessAllowed ? 'block' : 'none';\n",
              "    })();\n",
              "  </script>\n",
              "</div>\n",
              "    </div>\n",
              "  </div>\n"
            ]
          },
          "metadata": {},
          "execution_count": 10
        }
      ]
    },
    {
      "cell_type": "code",
      "source": [
        "df_clean[\"win\"]"
      ],
      "metadata": {
        "id": "0BjbiFU7Xh7W"
      },
      "execution_count": null,
      "outputs": []
    },
    {
      "cell_type": "code",
      "source": [
        "df_clean[\"game.home_team_id\"]"
      ],
      "metadata": {
        "colab": {
          "base_uri": "https://localhost:8080/"
        },
        "id": "e2rbeQI_GDCv",
        "outputId": "a4ff71ca-d9db-4f9c-fb8a-6fcca95f6cbf"
      },
      "execution_count": null,
      "outputs": [
        {
          "output_type": "execute_result",
          "data": {
            "text/plain": [
              "0        3\n",
              "1        3\n",
              "2        3\n",
              "3        3\n",
              "4        3\n",
              "        ..\n",
              "9995    16\n",
              "9996    16\n",
              "9997    16\n",
              "9998    16\n",
              "9999    27\n",
              "Name: game.home_team_id, Length: 59992, dtype: int64"
            ]
          },
          "metadata": {},
          "execution_count": 11
        }
      ]
    },
    {
      "cell_type": "code",
      "source": [
        "from sklearn.linear_model import LogisticRegression\n",
        "from sklearn.model_selection import train_test_split\n",
        "X = df_clean['win']\n",
        "y = df_clean['playing_at_home']\n",
        "\n",
        "X_train, X_test, y_train, y_test = train_test_split(X, y, test_size = 0.3, random_state=1)\n",
        "X_train = np.array(X_train).reshape(-1,1)\n",
        "y_train = np.array(y_train).reshape(-1, 1)\n",
        "X_test = np.array(X_test).reshape(-1,1)\n",
        "y_test = np.array(y_test).reshape(-1, 1)\n",
        "\n",
        "logit_model = LogisticRegression()\n",
        "logit_model.fit(X_train, y_train)\n",
        "\n",
        "from sklearn import metrics\n",
        "y_train_pred = logit_model.predict(X_train)\n",
        "\n",
        "metrics.confusion_matrix(y_train_pred, y_train)\n",
        "print((0+22946)/(0+0+19054+22946))"
      ],
      "metadata": {
        "id": "Wo-3yYRSAtzk",
        "colab": {
          "base_uri": "https://localhost:8080/"
        },
        "outputId": "746e5c93-9403-4b8c-abf7-ec422413746c"
      },
      "execution_count": null,
      "outputs": [
        {
          "output_type": "stream",
          "name": "stdout",
          "text": [
            "0.5463333333333333\n"
          ]
        },
        {
          "output_type": "stream",
          "name": "stderr",
          "text": [
            "/usr/local/lib/python3.10/dist-packages/sklearn/utils/validation.py:1143: DataConversionWarning: A column-vector y was passed when a 1d array was expected. Please change the shape of y to (n_samples, ), for example using ravel().\n",
            "  y = column_or_1d(y, warn=True)\n"
          ]
        }
      ]
    },
    {
      "cell_type": "code",
      "source": [
        "RMSE_train = (((y_train_pred - y_train)**2).mean())**(0.5)\n",
        "print('Training Set RMSE is', RMSE_train)"
      ],
      "metadata": {
        "id": "HiRse6TcTuSf"
      },
      "execution_count": null,
      "outputs": []
    },
    {
      "cell_type": "code",
      "source": [
        "y_pred = logit_model.predict(X_test)\n",
        "RMSE_test = (((y_pred - y_test)**2).mean())**(0.5)\n",
        "print('Testing Set RMSE is', RMSE_test)\n"
      ],
      "metadata": {
        "colab": {
          "base_uri": "https://localhost:8080/"
        },
        "id": "tHg4hTtALthO",
        "outputId": "9f8f2ae6-0f08-4ce4-ba06-631d870b9ef9"
      },
      "execution_count": null,
      "outputs": [
        {
          "output_type": "stream",
          "name": "stdout",
          "text": [
            "Testing Set RMSE is 0.5937033007234516\n"
          ]
        }
      ]
    },
    {
      "cell_type": "markdown",
      "source": [
        "## Advanced Model\n",
        "\n"
      ],
      "metadata": {
        "id": "aM3C4Cr82--9"
      }
    },
    {
      "cell_type": "code",
      "source": [
        "import numpy as np\n",
        "import tensorflow as tf\n",
        "from sklearn.model_selection import train_test_split\n",
        "from sklearn.preprocessing import StandardScaler\n",
        "from sklearn.metrics import accuracy_score\n",
        "\n",
        "X = df_clean['win']\n",
        "y = df_clean['playing_at_home']\n",
        "\n",
        "X_train_full, X_test, y_train_full, y_test = train_test_split(X, y, test_size=0.3, random_state=1)\n",
        "\n",
        "X_train, X_valid, y_train, y_valid = train_test_split(X_train_full, y_train_full)\n",
        "X_train = np.array(X_train).reshape(-1,1)\n",
        "y_train = np.array(y_train).reshape(-1, 1)\n",
        "X_test = np.array(X_test).reshape(-1,1)\n",
        "y_test = np.array(y_test).reshape(-1, 1)\n",
        "\n",
        "\n",
        "model = tf.keras.models.Sequential([\n",
        "    tf.keras.layers.Dense(256, activation='relu', input_shape=(X_train.shape[1],)),\n",
        "    tf.keras.layers.Dense(128, activation='relu'),\n",
        "    tf.keras.layers.Dense(64, activation='relu'),\n",
        "    tf.keras.layers.Dense(1, activation='sigmoid')\n",
        "])\n",
        "\n",
        "model.compile(optimizer='adam', loss='binary_crossentropy', metrics=['accuracy'])\n",
        "\n",
        "model.fit(X_train, y_train, epochs=10, batch_size=32, validation_split=0.2)"
      ],
      "metadata": {
        "id": "kuUSQdB3Ax_x",
        "colab": {
          "base_uri": "https://localhost:8080/"
        },
        "outputId": "df8bb175-d9cd-45fd-97cd-2769d017a883"
      },
      "execution_count": null,
      "outputs": [
        {
          "output_type": "stream",
          "name": "stdout",
          "text": [
            "Epoch 1/10\n",
            "788/788 [==============================] - 11s 5ms/step - loss: 0.6488 - accuracy: 0.6441 - val_loss: 0.6475 - val_accuracy: 0.6393\n",
            "Epoch 2/10\n",
            "788/788 [==============================] - 4s 5ms/step - loss: 0.6470 - accuracy: 0.6441 - val_loss: 0.6477 - val_accuracy: 0.6393\n",
            "Epoch 3/10\n",
            "788/788 [==============================] - 3s 4ms/step - loss: 0.6467 - accuracy: 0.6441 - val_loss: 0.6476 - val_accuracy: 0.6393\n",
            "Epoch 4/10\n",
            "788/788 [==============================] - 3s 4ms/step - loss: 0.6465 - accuracy: 0.6441 - val_loss: 0.6486 - val_accuracy: 0.6393\n",
            "Epoch 5/10\n",
            "788/788 [==============================] - 4s 5ms/step - loss: 0.6467 - accuracy: 0.6441 - val_loss: 0.6476 - val_accuracy: 0.6393\n",
            "Epoch 6/10\n",
            "788/788 [==============================] - 4s 5ms/step - loss: 0.6466 - accuracy: 0.6441 - val_loss: 0.6483 - val_accuracy: 0.6393\n",
            "Epoch 7/10\n",
            "788/788 [==============================] - 3s 4ms/step - loss: 0.6465 - accuracy: 0.6441 - val_loss: 0.6476 - val_accuracy: 0.6393\n",
            "Epoch 8/10\n",
            "788/788 [==============================] - 4s 5ms/step - loss: 0.6466 - accuracy: 0.6441 - val_loss: 0.6477 - val_accuracy: 0.6393\n",
            "Epoch 9/10\n",
            "788/788 [==============================] - 4s 5ms/step - loss: 0.6464 - accuracy: 0.6441 - val_loss: 0.6486 - val_accuracy: 0.6393\n",
            "Epoch 10/10\n",
            "788/788 [==============================] - 3s 4ms/step - loss: 0.6463 - accuracy: 0.6441 - val_loss: 0.6492 - val_accuracy: 0.6393\n"
          ]
        },
        {
          "output_type": "execute_result",
          "data": {
            "text/plain": [
              "<keras.callbacks.History at 0x7c7f9eea2a40>"
            ]
          },
          "metadata": {},
          "execution_count": 14
        }
      ]
    },
    {
      "cell_type": "code",
      "source": [
        "mse_test = model.evaluate(X_test, y_test)\n",
        "mse_test"
      ],
      "metadata": {
        "id": "jkbPEd6VA34J",
        "colab": {
          "base_uri": "https://localhost:8080/"
        },
        "outputId": "743fa0b1-7863-4df8-9f8b-0f0b78cdbb85"
      },
      "execution_count": null,
      "outputs": [
        {
          "output_type": "stream",
          "name": "stdout",
          "text": [
            "563/563 [==============================] - 1s 2ms/step - loss: 0.6453 - accuracy: 0.6475\n"
          ]
        }
      ]
    },
    {
      "cell_type": "markdown",
      "source": [
        "## Model Tuning\n",
        "\n"
      ],
      "metadata": {
        "id": "d2cZEJLu3AUs"
      }
    },
    {
      "cell_type": "code",
      "source": [
        "def build_model(n_hidden=1, n_neurons=30, learning_rate=0.001, input_shape=[8]):\n",
        "    model = tf.keras.models.Sequential()\n",
        "\n",
        "    model.add(tf.keras.layers.InputLayer(input_shape=input_shape))\n",
        "\n",
        "    for layer in range(n_hidden):\n",
        "        model.add(tf.keras.layers.Dense(n_neurons, activation=\"relu\"))\n",
        "\n",
        "    model.add(tf.keras.layers.Dense(1))\n",
        "\n",
        "    optimizer = tf.keras.optimizers.SGD(lr=learning_rate)\n",
        "\n",
        "    model.compile(loss=\"mse\", optimizer=optimizer)\n",
        "\n",
        "    return model"
      ],
      "metadata": {
        "id": "TSmgajc6SrZI"
      },
      "execution_count": null,
      "outputs": []
    }
  ]
}